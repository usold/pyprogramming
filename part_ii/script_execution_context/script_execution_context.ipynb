{
 "cells": [
  {
   "cell_type": "markdown",
   "metadata": {},
   "source": [
    "- *Current working directory*\n",
    "\n",
    "  **os.getcwd** gives access to the directory from which a script is started, and many file\n",
    "  tools use its value implicitly.\n",
    "  \n",
    "- *Command-lint arguments*\n",
    "  \n",
    "  **sys.argv** gives access to words typed on the command line that are used to start\n",
    "  the program and that serve as script inputs.\n",
    "  \n",
    "- *Shell variables*\n",
    "\n",
    "  **os.environ** provides an interface to names assinged in the enclosing shell (or a parment program)\n",
    "  and passed in to the script.\n",
    "  \n",
    "- *Standard streams*\n",
    "  **sys.stdin, stdout, and stderr export the three input/output streams that are at the heart\n",
    "  of command-line shell tools, and can be leveraged by scripts with print options\n"
   ]
  },
  {
   "cell_type": "markdown",
   "metadata": {},
   "source": [
    "## Shell Environment Variables"
   ]
  },
  {
   "cell_type": "markdown",
   "metadata": {},
   "source": [
    "### Fetching Shell Variables"
   ]
  },
  {
   "cell_type": "code",
   "execution_count": 2,
   "metadata": {
    "collapsed": true
   },
   "outputs": [],
   "source": [
    "import os"
   ]
  },
  {
   "cell_type": "code",
   "execution_count": 3,
   "metadata": {},
   "outputs": [
    {
     "data": {
      "text/plain": [
       "['GOPATH',\n",
       " 'LESSOPEN',\n",
       " 'LOGNAME',\n",
       " 'USER',\n",
       " 'HOME',\n",
       " 'PATH',\n",
       " 'LANG',\n",
       " 'TERM',\n",
       " 'SHELL',\n",
       " 'SHLVL',\n",
       " 'HISTSIZE',\n",
       " 'XDG_RUNTIME_DIR',\n",
       " 'JPY_PARENT_PID',\n",
       " 'GIT_PAGER',\n",
       " 'XDG_SESSION_ID',\n",
       " '_',\n",
       " 'MPLBACKEND',\n",
       " 'ENIGMA_API_KEY',\n",
       " 'HOSTNAME',\n",
       " 'CLICOLOR',\n",
       " 'HISTCONTROL',\n",
       " 'PWD',\n",
       " 'MAIL',\n",
       " 'PAGER']"
      ]
     },
     "execution_count": 3,
     "metadata": {},
     "output_type": "execute_result"
    }
   ],
   "source": [
    "os.environ.keys()"
   ]
  },
  {
   "cell_type": "code",
   "execution_count": 4,
   "metadata": {},
   "outputs": [
    {
     "data": {
      "text/plain": [
       "['GOPATH',\n",
       " 'LESSOPEN',\n",
       " 'LOGNAME',\n",
       " 'USER',\n",
       " 'HOME',\n",
       " 'PATH',\n",
       " 'LANG',\n",
       " 'TERM',\n",
       " 'SHELL',\n",
       " 'SHLVL',\n",
       " 'HISTSIZE',\n",
       " 'XDG_RUNTIME_DIR',\n",
       " 'JPY_PARENT_PID',\n",
       " 'GIT_PAGER',\n",
       " 'XDG_SESSION_ID',\n",
       " '_',\n",
       " 'MPLBACKEND',\n",
       " 'ENIGMA_API_KEY',\n",
       " 'HOSTNAME',\n",
       " 'CLICOLOR',\n",
       " 'HISTCONTROL',\n",
       " 'PWD',\n",
       " 'MAIL',\n",
       " 'PAGER']"
      ]
     },
     "execution_count": 4,
     "metadata": {},
     "output_type": "execute_result"
    }
   ],
   "source": [
    "list(os.environ.keys())"
   ]
  },
  {
   "cell_type": "code",
   "execution_count": 5,
   "metadata": {},
   "outputs": [
    {
     "data": {
      "text/plain": [
       "'/home/atqs'"
      ]
     },
     "execution_count": 5,
     "metadata": {},
     "output_type": "execute_result"
    }
   ],
   "source": [
    "os.environ['HOME']"
   ]
  },
  {
   "cell_type": "code",
   "execution_count": 8,
   "metadata": {},
   "outputs": [
    {
     "data": {
      "text/plain": [
       "'/home/atqs/anaconda2/bin:/home/atqs/anaconda2/bin:/home/atqs/src/go:/usr/local/bin:/bin:/usr/bin:/usr/local/sbin:/usr/sbin:/home/atqs/.local/bin:/home/atqs/bin'"
      ]
     },
     "execution_count": 8,
     "metadata": {},
     "output_type": "execute_result"
    }
   ],
   "source": [
    "os.environ['PATH']"
   ]
  },
  {
   "cell_type": "code",
   "execution_count": 9,
   "metadata": {},
   "outputs": [
    {
     "name": "stdout",
     "output_type": "stream",
     "text": [
      "/home/atqs/anaconda2/bin\n",
      "/home/atqs/anaconda2/bin\n",
      "/home/atqs/src/go\n",
      "/usr/local/bin\n",
      "/bin\n",
      "/usr/bin\n",
      "/usr/local/sbin\n",
      "/usr/sbin\n",
      "/home/atqs/.local/bin\n",
      "/home/atqs/bin\n"
     ]
    }
   ],
   "source": [
    "for srcdir in os.environ['PATH'].split(os.pathsep):\n",
    "    print(srcdir)"
   ]
  },
  {
   "cell_type": "code",
   "execution_count": 10,
   "metadata": {
    "collapsed": true
   },
   "outputs": [],
   "source": [
    "import sys"
   ]
  },
  {
   "cell_type": "code",
   "execution_count": 11,
   "metadata": {},
   "outputs": [
    {
     "data": {
      "text/plain": [
       "['',\n",
       " '/home/atqs/anaconda2/lib/python27.zip',\n",
       " '/home/atqs/anaconda2/lib/python2.7',\n",
       " '/home/atqs/anaconda2/lib/python2.7/plat-linux2',\n",
       " '/home/atqs/anaconda2/lib/python2.7/lib-tk',\n",
       " '/home/atqs/anaconda2/lib/python2.7/lib-old',\n",
       " '/home/atqs/anaconda2/lib/python2.7/lib-dynload',\n",
       " '/home/atqs/anaconda2/lib/python2.7/site-packages',\n",
       " '/home/atqs/anaconda2/lib/python2.7/site-packages/Sphinx-1.5.6-py2.7.egg',\n",
       " '/home/atqs/anaconda2/lib/python2.7/site-packages/setuptools-27.2.0-py2.7.egg',\n",
       " '/home/atqs/anaconda2/lib/python2.7/site-packages/IPython/extensions',\n",
       " '/home/atqs/.ipython']"
      ]
     },
     "execution_count": 11,
     "metadata": {},
     "output_type": "execute_result"
    }
   ],
   "source": [
    "sys.path[:]"
   ]
  },
  {
   "cell_type": "markdown",
   "metadata": {},
   "source": [
    "**sys.path** is the actual search path at runtime."
   ]
  },
  {
   "cell_type": "markdown",
   "metadata": {},
   "source": [
    "### Shell Vairable Fine Points: Parents, putenv, and getenv"
   ]
  },
  {
   "cell_type": "code",
   "execution_count": 12,
   "metadata": {},
   "outputs": [
    {
     "data": {
      "text/plain": [
       "'atqs'"
      ]
     },
     "execution_count": 12,
     "metadata": {},
     "output_type": "execute_result"
    }
   ],
   "source": [
    "os.environ['USER']"
   ]
  },
  {
   "cell_type": "markdown",
   "metadata": {},
   "source": [
    "## Standard Streams"
   ]
  },
  {
   "cell_type": "code",
   "execution_count": 13,
   "metadata": {
    "collapsed": true
   },
   "outputs": [],
   "source": [
    "import sys"
   ]
  },
  {
   "cell_type": "code",
   "execution_count": 15,
   "metadata": {},
   "outputs": [
    {
     "name": "stdout",
     "output_type": "stream",
     "text": [
      "<open file '<stdin>', mode 'r' at 0x7f5037c440c0>\n",
      "<ipykernel.iostream.OutStream object at 0x7f502ab04b90>\n",
      "<ipykernel.iostream.OutStream object at 0x7f502ab04bd0>\n"
     ]
    }
   ],
   "source": [
    "for f in (sys.stdin, sys.stdout, sys.stderr): print(f)"
   ]
  },
  {
   "cell_type": "code",
   "execution_count": null,
   "metadata": {
    "collapsed": true
   },
   "outputs": [],
   "source": []
  }
 ],
 "metadata": {
  "kernelspec": {
   "display_name": "Python [default]",
   "language": "python",
   "name": "python2"
  },
  "language_info": {
   "codemirror_mode": {
    "name": "ipython",
    "version": 2
   },
   "file_extension": ".py",
   "mimetype": "text/x-python",
   "name": "python",
   "nbconvert_exporter": "python",
   "pygments_lexer": "ipython2",
   "version": "2.7.13"
  }
 },
 "nbformat": 4,
 "nbformat_minor": 2
}
